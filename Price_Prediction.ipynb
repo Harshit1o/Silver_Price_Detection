{
 "cells": [
  {
   "cell_type": "code",
   "execution_count": 3,
   "metadata": {
    "executionInfo": {
     "elapsed": 2,
     "status": "ok",
     "timestamp": 1743048871341,
     "user": {
      "displayName": "Harshit Chatterjee",
      "userId": "07472237498188752971"
     },
     "user_tz": -330
    },
    "id": "3wuKXnHMqCVO"
   },
   "outputs": [],
   "source": [
    "import pandas as pd\n",
    "import numpy as np\n",
    "import matplotlib.pyplot as plt\n",
    "import seaborn as sns\n",
    "\n",
    "import warnings\n",
    "warnings.filterwarnings(\"ignore\")"
   ]
  },
  {
   "cell_type": "code",
   "execution_count": 4,
   "metadata": {
    "colab": {
     "base_uri": "https://localhost:8080/",
     "height": 1000
    },
    "executionInfo": {
     "elapsed": 593,
     "status": "ok",
     "timestamp": 1743048890275,
     "user": {
      "displayName": "Harshit Chatterjee",
      "userId": "07472237498188752971"
     },
     "user_tz": -330
    },
    "id": "0tcII5z6zqU0",
    "outputId": "11591781-cc2a-4da1-fe9e-77629f50cbe8"
   },
   "outputs": [
    {
     "data": {
      "text/html": [
       "<div>\n",
       "<style scoped>\n",
       "    .dataframe tbody tr th:only-of-type {\n",
       "        vertical-align: middle;\n",
       "    }\n",
       "\n",
       "    .dataframe tbody tr th {\n",
       "        vertical-align: top;\n",
       "    }\n",
       "\n",
       "    .dataframe thead th {\n",
       "        text-align: right;\n",
       "    }\n",
       "</style>\n",
       "<table border=\"1\" class=\"dataframe\">\n",
       "  <thead>\n",
       "    <tr style=\"text-align: right;\">\n",
       "      <th></th>\n",
       "      <th>Date</th>\n",
       "      <th>Close/Last</th>\n",
       "      <th>Volume</th>\n",
       "      <th>Open</th>\n",
       "      <th>High</th>\n",
       "      <th>Low</th>\n",
       "    </tr>\n",
       "  </thead>\n",
       "  <tbody>\n",
       "    <tr>\n",
       "      <th>0</th>\n",
       "      <td>08/17/2023</td>\n",
       "      <td>23.042</td>\n",
       "      <td>11441.0</td>\n",
       "      <td>22.800</td>\n",
       "      <td>23.385</td>\n",
       "      <td>22.725</td>\n",
       "    </tr>\n",
       "    <tr>\n",
       "      <th>1</th>\n",
       "      <td>08/16/2023</td>\n",
       "      <td>22.856</td>\n",
       "      <td>10802.0</td>\n",
       "      <td>22.905</td>\n",
       "      <td>23.170</td>\n",
       "      <td>22.770</td>\n",
       "    </tr>\n",
       "    <tr>\n",
       "      <th>2</th>\n",
       "      <td>08/15/2023</td>\n",
       "      <td>22.656</td>\n",
       "      <td>60396.0</td>\n",
       "      <td>22.650</td>\n",
       "      <td>22.770</td>\n",
       "      <td>22.265</td>\n",
       "    </tr>\n",
       "    <tr>\n",
       "      <th>3</th>\n",
       "      <td>08/14/2023</td>\n",
       "      <td>22.708</td>\n",
       "      <td>51908.0</td>\n",
       "      <td>22.740</td>\n",
       "      <td>22.820</td>\n",
       "      <td>22.410</td>\n",
       "    </tr>\n",
       "    <tr>\n",
       "      <th>4</th>\n",
       "      <td>08/11/2023</td>\n",
       "      <td>22.743</td>\n",
       "      <td>48043.0</td>\n",
       "      <td>22.760</td>\n",
       "      <td>22.910</td>\n",
       "      <td>22.610</td>\n",
       "    </tr>\n",
       "  </tbody>\n",
       "</table>\n",
       "</div>"
      ],
      "text/plain": [
       "         Date  Close/Last   Volume    Open    High     Low\n",
       "0  08/17/2023      23.042  11441.0  22.800  23.385  22.725\n",
       "1  08/16/2023      22.856  10802.0  22.905  23.170  22.770\n",
       "2  08/15/2023      22.656  60396.0  22.650  22.770  22.265\n",
       "3  08/14/2023      22.708  51908.0  22.740  22.820  22.410\n",
       "4  08/11/2023      22.743  48043.0  22.760  22.910  22.610"
      ]
     },
     "execution_count": 4,
     "metadata": {},
     "output_type": "execute_result"
    }
   ],
   "source": [
    "df = pd.read_csv('SET - 1 -Silver prices.csv')\n",
    "df.head()"
   ]
  },
  {
   "cell_type": "code",
   "execution_count": 5,
   "metadata": {
    "colab": {
     "base_uri": "https://localhost:8080/",
     "height": 206
    },
    "executionInfo": {
     "elapsed": 33,
     "status": "ok",
     "timestamp": 1743048936630,
     "user": {
      "displayName": "Harshit Chatterjee",
      "userId": "07472237498188752971"
     },
     "user_tz": -330
    },
    "id": "iT9Y78TXz1My",
    "outputId": "95696778-d407-47da-adda-d75af893bebf"
   },
   "outputs": [
    {
     "data": {
      "text/html": [
       "<div>\n",
       "<style scoped>\n",
       "    .dataframe tbody tr th:only-of-type {\n",
       "        vertical-align: middle;\n",
       "    }\n",
       "\n",
       "    .dataframe tbody tr th {\n",
       "        vertical-align: top;\n",
       "    }\n",
       "\n",
       "    .dataframe thead th {\n",
       "        text-align: right;\n",
       "    }\n",
       "</style>\n",
       "<table border=\"1\" class=\"dataframe\">\n",
       "  <thead>\n",
       "    <tr style=\"text-align: right;\">\n",
       "      <th></th>\n",
       "      <th>Date</th>\n",
       "      <th>Close/Last</th>\n",
       "      <th>Volume</th>\n",
       "      <th>Open</th>\n",
       "      <th>High</th>\n",
       "      <th>Low</th>\n",
       "    </tr>\n",
       "  </thead>\n",
       "  <tbody>\n",
       "    <tr>\n",
       "      <th>2534</th>\n",
       "      <td>08/23/2013</td>\n",
       "      <td>23.781</td>\n",
       "      <td>20102.0</td>\n",
       "      <td>23.235</td>\n",
       "      <td>24.140</td>\n",
       "      <td>22.935</td>\n",
       "    </tr>\n",
       "    <tr>\n",
       "      <th>2535</th>\n",
       "      <td>08/22/2013</td>\n",
       "      <td>23.080</td>\n",
       "      <td>12238.0</td>\n",
       "      <td>22.920</td>\n",
       "      <td>23.365</td>\n",
       "      <td>22.500</td>\n",
       "    </tr>\n",
       "    <tr>\n",
       "      <th>2536</th>\n",
       "      <td>08/21/2013</td>\n",
       "      <td>23.009</td>\n",
       "      <td>7326.0</td>\n",
       "      <td>23.020</td>\n",
       "      <td>23.400</td>\n",
       "      <td>22.810</td>\n",
       "    </tr>\n",
       "    <tr>\n",
       "      <th>2537</th>\n",
       "      <td>08/20/2013</td>\n",
       "      <td>23.118</td>\n",
       "      <td>14280.0</td>\n",
       "      <td>23.200</td>\n",
       "      <td>23.350</td>\n",
       "      <td>22.320</td>\n",
       "    </tr>\n",
       "    <tr>\n",
       "      <th>2538</th>\n",
       "      <td>08/19/2013</td>\n",
       "      <td>23.215</td>\n",
       "      <td>8249.0</td>\n",
       "      <td>23.330</td>\n",
       "      <td>23.640</td>\n",
       "      <td>23.010</td>\n",
       "    </tr>\n",
       "  </tbody>\n",
       "</table>\n",
       "</div>"
      ],
      "text/plain": [
       "            Date  Close/Last   Volume    Open    High     Low\n",
       "2534  08/23/2013      23.781  20102.0  23.235  24.140  22.935\n",
       "2535  08/22/2013      23.080  12238.0  22.920  23.365  22.500\n",
       "2536  08/21/2013      23.009   7326.0  23.020  23.400  22.810\n",
       "2537  08/20/2013      23.118  14280.0  23.200  23.350  22.320\n",
       "2538  08/19/2013      23.215   8249.0  23.330  23.640  23.010"
      ]
     },
     "execution_count": 5,
     "metadata": {},
     "output_type": "execute_result"
    }
   ],
   "source": [
    "df.tail()"
   ]
  },
  {
   "cell_type": "code",
   "execution_count": 6,
   "metadata": {
    "colab": {
     "base_uri": "https://localhost:8080/",
     "height": 272
    },
    "executionInfo": {
     "elapsed": 8,
     "status": "ok",
     "timestamp": 1743048987804,
     "user": {
      "displayName": "Harshit Chatterjee",
      "userId": "07472237498188752971"
     },
     "user_tz": -330
    },
    "id": "FwfVa1U00Aqf",
    "outputId": "3185bde6-fdca-4b3e-d62e-6cd9cfeacfb5"
   },
   "outputs": [
    {
     "data": {
      "text/plain": [
       "Date           0\n",
       "Close/Last     0\n",
       "Volume        63\n",
       "Open           0\n",
       "High           0\n",
       "Low            0\n",
       "dtype: int64"
      ]
     },
     "execution_count": 6,
     "metadata": {},
     "output_type": "execute_result"
    }
   ],
   "source": [
    "df.isnull().sum()"
   ]
  },
  {
   "cell_type": "code",
   "execution_count": 7,
   "metadata": {
    "executionInfo": {
     "elapsed": 2,
     "status": "ok",
     "timestamp": 1743049264304,
     "user": {
      "displayName": "Harshit Chatterjee",
      "userId": "07472237498188752971"
     },
     "user_tz": -330
    },
    "id": "xFdGykxg0NID"
   },
   "outputs": [],
   "source": [
    "df.dropna(inplace=True)"
   ]
  },
  {
   "cell_type": "code",
   "execution_count": 8,
   "metadata": {
    "colab": {
     "base_uri": "https://localhost:8080/",
     "height": 272
    },
    "executionInfo": {
     "elapsed": 8,
     "status": "ok",
     "timestamp": 1743049272158,
     "user": {
      "displayName": "Harshit Chatterjee",
      "userId": "07472237498188752971"
     },
     "user_tz": -330
    },
    "id": "chSM60Zh1Qoa",
    "outputId": "80d7456d-3331-4851-8b61-43d242699b9a"
   },
   "outputs": [
    {
     "data": {
      "text/plain": [
       "Date          0\n",
       "Close/Last    0\n",
       "Volume        0\n",
       "Open          0\n",
       "High          0\n",
       "Low           0\n",
       "dtype: int64"
      ]
     },
     "execution_count": 8,
     "metadata": {},
     "output_type": "execute_result"
    }
   ],
   "source": [
    "df.isnull().sum()"
   ]
  },
  {
   "cell_type": "code",
   "execution_count": 9,
   "metadata": {
    "colab": {
     "base_uri": "https://localhost:8080/",
     "height": 300
    },
    "executionInfo": {
     "elapsed": 7,
     "status": "ok",
     "timestamp": 1743049287560,
     "user": {
      "displayName": "Harshit Chatterjee",
      "userId": "07472237498188752971"
     },
     "user_tz": -330
    },
    "id": "cUQP0gtl1Sik",
    "outputId": "747f0541-d2b9-4be1-997f-637ad263cf88"
   },
   "outputs": [
    {
     "data": {
      "text/html": [
       "<div>\n",
       "<style scoped>\n",
       "    .dataframe tbody tr th:only-of-type {\n",
       "        vertical-align: middle;\n",
       "    }\n",
       "\n",
       "    .dataframe tbody tr th {\n",
       "        vertical-align: top;\n",
       "    }\n",
       "\n",
       "    .dataframe thead th {\n",
       "        text-align: right;\n",
       "    }\n",
       "</style>\n",
       "<table border=\"1\" class=\"dataframe\">\n",
       "  <thead>\n",
       "    <tr style=\"text-align: right;\">\n",
       "      <th></th>\n",
       "      <th>Close/Last</th>\n",
       "      <th>Volume</th>\n",
       "      <th>Open</th>\n",
       "      <th>High</th>\n",
       "      <th>Low</th>\n",
       "    </tr>\n",
       "  </thead>\n",
       "  <tbody>\n",
       "    <tr>\n",
       "      <th>count</th>\n",
       "      <td>2476.000000</td>\n",
       "      <td>2476.000000</td>\n",
       "      <td>2476.000000</td>\n",
       "      <td>2476.000000</td>\n",
       "      <td>2476.000000</td>\n",
       "    </tr>\n",
       "    <tr>\n",
       "      <th>mean</th>\n",
       "      <td>19.158506</td>\n",
       "      <td>56836.897819</td>\n",
       "      <td>19.169718</td>\n",
       "      <td>19.392533</td>\n",
       "      <td>18.926273</td>\n",
       "    </tr>\n",
       "    <tr>\n",
       "      <th>std</th>\n",
       "      <td>3.769752</td>\n",
       "      <td>31718.237093</td>\n",
       "      <td>3.782022</td>\n",
       "      <td>3.846267</td>\n",
       "      <td>3.691737</td>\n",
       "    </tr>\n",
       "    <tr>\n",
       "      <th>min</th>\n",
       "      <td>11.772000</td>\n",
       "      <td>1.000000</td>\n",
       "      <td>11.975000</td>\n",
       "      <td>12.330000</td>\n",
       "      <td>11.640000</td>\n",
       "    </tr>\n",
       "    <tr>\n",
       "      <th>25%</th>\n",
       "      <td>16.268000</td>\n",
       "      <td>38002.500000</td>\n",
       "      <td>16.265000</td>\n",
       "      <td>16.435000</td>\n",
       "      <td>16.103750</td>\n",
       "    </tr>\n",
       "    <tr>\n",
       "      <th>50%</th>\n",
       "      <td>17.818500</td>\n",
       "      <td>53604.000000</td>\n",
       "      <td>17.857500</td>\n",
       "      <td>18.020000</td>\n",
       "      <td>17.665000</td>\n",
       "    </tr>\n",
       "    <tr>\n",
       "      <th>75%</th>\n",
       "      <td>22.281250</td>\n",
       "      <td>71269.500000</td>\n",
       "      <td>22.350000</td>\n",
       "      <td>22.568750</td>\n",
       "      <td>21.948750</td>\n",
       "    </tr>\n",
       "    <tr>\n",
       "      <th>max</th>\n",
       "      <td>29.418000</td>\n",
       "      <td>347002.000000</td>\n",
       "      <td>29.235000</td>\n",
       "      <td>30.350000</td>\n",
       "      <td>28.300000</td>\n",
       "    </tr>\n",
       "  </tbody>\n",
       "</table>\n",
       "</div>"
      ],
      "text/plain": [
       "        Close/Last         Volume         Open         High          Low\n",
       "count  2476.000000    2476.000000  2476.000000  2476.000000  2476.000000\n",
       "mean     19.158506   56836.897819    19.169718    19.392533    18.926273\n",
       "std       3.769752   31718.237093     3.782022     3.846267     3.691737\n",
       "min      11.772000       1.000000    11.975000    12.330000    11.640000\n",
       "25%      16.268000   38002.500000    16.265000    16.435000    16.103750\n",
       "50%      17.818500   53604.000000    17.857500    18.020000    17.665000\n",
       "75%      22.281250   71269.500000    22.350000    22.568750    21.948750\n",
       "max      29.418000  347002.000000    29.235000    30.350000    28.300000"
      ]
     },
     "execution_count": 9,
     "metadata": {},
     "output_type": "execute_result"
    }
   ],
   "source": [
    "df.describe()"
   ]
  },
  {
   "cell_type": "code",
   "execution_count": 10,
   "metadata": {
    "colab": {
     "base_uri": "https://localhost:8080/",
     "height": 300
    },
    "executionInfo": {
     "elapsed": 114,
     "status": "ok",
     "timestamp": 1743049706263,
     "user": {
      "displayName": "Harshit Chatterjee",
      "userId": "07472237498188752971"
     },
     "user_tz": -330
    },
    "id": "pXbKDI611WVu",
    "outputId": "5f8f8085-4549-4313-f4e2-d71622707c00"
   },
   "outputs": [
    {
     "data": {
      "text/html": [
       "<div>\n",
       "<style scoped>\n",
       "    .dataframe tbody tr th:only-of-type {\n",
       "        vertical-align: middle;\n",
       "    }\n",
       "\n",
       "    .dataframe tbody tr th {\n",
       "        vertical-align: top;\n",
       "    }\n",
       "\n",
       "    .dataframe thead th {\n",
       "        text-align: right;\n",
       "    }\n",
       "</style>\n",
       "<table border=\"1\" class=\"dataframe\">\n",
       "  <thead>\n",
       "    <tr style=\"text-align: right;\">\n",
       "      <th></th>\n",
       "      <th>Open</th>\n",
       "      <th>High</th>\n",
       "      <th>Low</th>\n",
       "      <th>Volume</th>\n",
       "      <th>Close/Last</th>\n",
       "    </tr>\n",
       "  </thead>\n",
       "  <tbody>\n",
       "    <tr>\n",
       "      <th>count</th>\n",
       "      <td>2476.000000</td>\n",
       "      <td>2476.000000</td>\n",
       "      <td>2476.000000</td>\n",
       "      <td>2476.000000</td>\n",
       "      <td>2476.000000</td>\n",
       "    </tr>\n",
       "    <tr>\n",
       "      <th>mean</th>\n",
       "      <td>19.169718</td>\n",
       "      <td>19.392533</td>\n",
       "      <td>18.926273</td>\n",
       "      <td>56836.897819</td>\n",
       "      <td>19.158506</td>\n",
       "    </tr>\n",
       "    <tr>\n",
       "      <th>std</th>\n",
       "      <td>3.782022</td>\n",
       "      <td>3.846267</td>\n",
       "      <td>3.691737</td>\n",
       "      <td>31718.237093</td>\n",
       "      <td>3.769752</td>\n",
       "    </tr>\n",
       "    <tr>\n",
       "      <th>min</th>\n",
       "      <td>11.975000</td>\n",
       "      <td>12.330000</td>\n",
       "      <td>11.640000</td>\n",
       "      <td>1.000000</td>\n",
       "      <td>11.772000</td>\n",
       "    </tr>\n",
       "    <tr>\n",
       "      <th>25%</th>\n",
       "      <td>16.265000</td>\n",
       "      <td>16.435000</td>\n",
       "      <td>16.103750</td>\n",
       "      <td>38002.500000</td>\n",
       "      <td>16.268000</td>\n",
       "    </tr>\n",
       "    <tr>\n",
       "      <th>50%</th>\n",
       "      <td>17.857500</td>\n",
       "      <td>18.020000</td>\n",
       "      <td>17.665000</td>\n",
       "      <td>53604.000000</td>\n",
       "      <td>17.818500</td>\n",
       "    </tr>\n",
       "    <tr>\n",
       "      <th>75%</th>\n",
       "      <td>22.350000</td>\n",
       "      <td>22.568750</td>\n",
       "      <td>21.948750</td>\n",
       "      <td>71269.500000</td>\n",
       "      <td>22.281250</td>\n",
       "    </tr>\n",
       "    <tr>\n",
       "      <th>max</th>\n",
       "      <td>29.235000</td>\n",
       "      <td>30.350000</td>\n",
       "      <td>28.300000</td>\n",
       "      <td>347002.000000</td>\n",
       "      <td>29.418000</td>\n",
       "    </tr>\n",
       "  </tbody>\n",
       "</table>\n",
       "</div>"
      ],
      "text/plain": [
       "              Open         High          Low         Volume   Close/Last\n",
       "count  2476.000000  2476.000000  2476.000000    2476.000000  2476.000000\n",
       "mean     19.169718    19.392533    18.926273   56836.897819    19.158506\n",
       "std       3.782022     3.846267     3.691737   31718.237093     3.769752\n",
       "min      11.975000    12.330000    11.640000       1.000000    11.772000\n",
       "25%      16.265000    16.435000    16.103750   38002.500000    16.268000\n",
       "50%      17.857500    18.020000    17.665000   53604.000000    17.818500\n",
       "75%      22.350000    22.568750    21.948750   71269.500000    22.281250\n",
       "max      29.235000    30.350000    28.300000  347002.000000    29.418000"
      ]
     },
     "execution_count": 10,
     "metadata": {},
     "output_type": "execute_result"
    }
   ],
   "source": [
    "numeric_features = ['Open', 'High','Low','Volume']\n",
    "df[numeric_features + ['Close/Last']].describe()"
   ]
  },
  {
   "cell_type": "code",
   "execution_count": 11,
   "metadata": {
    "colab": {
     "base_uri": "https://localhost:8080/",
     "height": 1000
    },
    "executionInfo": {
     "elapsed": 1108,
     "status": "ok",
     "timestamp": 1743049731422,
     "user": {
      "displayName": "Harshit Chatterjee",
      "userId": "07472237498188752971"
     },
     "user_tz": -330
    },
    "id": "qM8jVfd-2yif",
    "outputId": "11e5ee30-5a60-4781-95ec-3a6229467703"
   },
   "outputs": [
    {
     "data": {
      "image/png": "[encoded data removed]",
      "text/plain": [
       "<Figure size 648x432 with 1 Axes>"
      ]
     },
     "metadata": {
      "needs_background": "light"
     },
     "output_type": "display_data"
    },
    {
     "data": {
      "image/png": "[encoded data removed]",
      "text/plain": [
       "<Figure size 648x432 with 1 Axes>"
      ]
     },
     "metadata": {
      "needs_background": "light"
     },
     "output_type": "display_data"
    },
    {
     "data": {
      "image/png": "[encoded data removed]",
      "text/plain": [
       "<Figure size 648x432 with 1 Axes>"
      ]
     },
     "metadata": {
      "needs_background": "light"
     },
     "output_type": "display_data"
    },
    {
     "data": {
      "image/png": "[encoded data removed]",
      "text/plain": [
       "<Figure size 648x432 with 1 Axes>"
      ]
     },
     "metadata": {
      "needs_background": "light"
     },
     "output_type": "display_data"
    }
   ],
   "source": [
    "# Plot a histogram for each numeric feature\n",
    "for col in numeric_features:\n",
    "    fig = plt.figure(figsize=(9, 6))\n",
    "    ax = fig.gca()\n",
    "    feature = df[col]\n",
    "    feature.hist(bins=100, ax = ax)\n",
    "    ax.axvline(feature.mean(), color='magenta', linestyle='dashed', linewidth=2)\n",
    "    ax.axvline(feature.median(), color='cyan', linestyle='dashed', linewidth=2)\n",
    "    ax.set_title(col)\n",
    "plt.show()"
   ]
  },
  {
   "cell_type": "code",
   "execution_count": 12,
   "metadata": {
    "colab": {
     "base_uri": "https://localhost:8080/",
     "height": 1000
    },
    "executionInfo": {
     "elapsed": 1230,
     "status": "ok",
     "timestamp": 1743049789127,
     "user": {
      "displayName": "Harshit Chatterjee",
      "userId": "07472237498188752971"
     },
     "user_tz": -330
    },
    "id": "d55QPh5h3CdK",
    "outputId": "b7ed3a24-d45e-4fe9-be2f-2860752fad23"
   },
   "outputs": [
    {
     "data": {
      "image/png": "[encoded data removed]",
      "text/plain": [
       "<Figure size 648x432 with 1 Axes>"
      ]
     },
     "metadata": {
      "needs_background": "light"
     },
     "output_type": "display_data"
    },
    {
     "data": {
      "image/png": "[encoded data removed]",
      "text/plain": [
       "<Figure size 648x432 with 1 Axes>"
      ]
     },
     "metadata": {
      "needs_background": "light"
     },
     "output_type": "display_data"
    },
    {
     "data": {
      "image/png": "[encoded data removed]",
      "text/plain": [
       "<Figure size 648x432 with 1 Axes>"
      ]
     },
     "metadata": {
      "needs_background": "light"
     },
     "output_type": "display_data"
    },
    {
     "data": {
      "image/png": "[encoded data removed]",
      "text/plain": [
       "<Figure size 648x432 with 1 Axes>"
      ]
     },
     "metadata": {
      "needs_background": "light"
     },
     "output_type": "display_data"
    }
   ],
   "source": [
    "for col in numeric_features:\n",
    "    fig = plt.figure(figsize=(9, 6))\n",
    "    ax = fig.gca()\n",
    "    feature = df[col]\n",
    "    label = df['Close/Last']\n",
    "    correlation = feature.corr(label)\n",
    "    plt.scatter(x=feature, y=label)\n",
    "    plt.xlabel(col)\n",
    "    plt.ylabel('Time')\n",
    "    ax.set_title('Close vs ' + col + '- correlation: ' + str(correlation))\n",
    "plt.show()"
   ]
  },
  {
   "cell_type": "code",
   "execution_count": 13,
   "metadata": {
    "colab": {
     "base_uri": "https://localhost:8080/"
    },
    "executionInfo": {
     "elapsed": 7,
     "status": "ok",
     "timestamp": 1743049820747,
     "user": {
      "displayName": "Harshit Chatterjee",
      "userId": "07472237498188752971"
     },
     "user_tz": -330
    },
    "id": "pImqciLB3Nfq",
    "outputId": "27c5a4f2-2c5a-40f0-e40c-a9aec225d44a"
   },
   "outputs": [
    {
     "name": "stdout",
     "output_type": "stream",
     "text": [
      "Features:\n",
      "[[2.2800e+01 2.3385e+01 2.2725e+01 1.1441e+04]\n",
      " [2.2905e+01 2.3170e+01 2.2770e+01 1.0802e+04]\n",
      " [2.2650e+01 2.2770e+01 2.2265e+01 6.0396e+04]\n",
      " [2.2740e+01 2.2820e+01 2.2410e+01 5.1908e+04]\n",
      " [2.2760e+01 2.2910e+01 2.2610e+01 4.8043e+04]\n",
      " [2.2730e+01 2.3060e+01 2.2665e+01 7.1226e+04]\n",
      " [2.2820e+01 2.2990e+01 2.2680e+01 6.0561e+04]\n",
      " [2.3200e+01 2.3255e+01 2.2720e+01 7.3338e+04]\n",
      " [2.3720e+01 2.3775e+01 2.3145e+01 5.5345e+04]\n",
      " [2.3710e+01 2.3895e+01 2.3275e+01 5.6747e+04]]\n",
      "\n",
      "Labels:\n",
      "[23.042 22.856 22.656 22.708 22.743 22.821 22.731 22.807 23.232 23.716]\n"
     ]
    }
   ],
   "source": [
    "X, y = df[['Open','High','Low','Volume']].values, df['Close/Last'].values\n",
    "print('Features:',X[:10], '\\nLabels:', y[:10], sep='\\n')"
   ]
  },
  {
   "cell_type": "code",
   "execution_count": 14,
   "metadata": {
    "colab": {
     "base_uri": "https://localhost:8080/"
    },
    "executionInfo": {
     "elapsed": 6,
     "status": "ok",
     "timestamp": 1743049873964,
     "user": {
      "displayName": "Harshit Chatterjee",
      "userId": "07472237498188752971"
     },
     "user_tz": -330
    },
    "id": "1HqkhK2v3Yhz",
    "outputId": "526b5391-cd21-4ba6-a2e7-061ad92c10c9"
   },
   "outputs": [
    {
     "name": "stdout",
     "output_type": "stream",
     "text": [
      "Training Set: 1980 rows\n",
      "Test Set: 496 rows\n"
     ]
    }
   ],
   "source": [
    "from sklearn.model_selection import train_test_split\n",
    "\n",
    "# Split data 80%-20% into training set and test set\n",
    "X_train, X_test, y_train, y_test = train_test_split(X, y, test_size=0.20, random_state=42)\n",
    "\n",
    "print ('Training Set: %d rows\\nTest Set: %d rows' % (X_train.shape[0], X_test.shape[0]))"
   ]
  },
  {
   "cell_type": "code",
   "execution_count": 15,
   "metadata": {
    "executionInfo": {
     "elapsed": 548,
     "status": "ok",
     "timestamp": 1743049897895,
     "user": {
      "displayName": "Harshit Chatterjee",
      "userId": "07472237498188752971"
     },
     "user_tz": -330
    },
    "id": "RZ5o27oV3jlt"
   },
   "outputs": [],
   "source": [
    "from sklearn.linear_model import LinearRegression\n",
    "\n",
    "\n",
    "# Fit a linear regression model on the training set\n",
    "model = LinearRegression().fit(X_train, y_train)\n",
    "y_pred = model.predict(X_test)"
   ]
  },
  {
   "cell_type": "code",
   "execution_count": 16,
   "metadata": {
    "colab": {
     "base_uri": "https://localhost:8080/"
    },
    "executionInfo": {
     "elapsed": 9,
     "status": "ok",
     "timestamp": 1743049918109,
     "user": {
      "displayName": "Harshit Chatterjee",
      "userId": "07472237498188752971"
     },
     "user_tz": -330
    },
    "id": "iPhrIhR63rQF",
    "outputId": "f16ff0de-458f-43f1-aba4-5005e5b05ba8"
   },
   "outputs": [
    {
     "name": "stdout",
     "output_type": "stream",
     "text": [
      "Predicted labels:  [19. 19. 17. 23. 23. 16. 15. 14. 16. 20.]\n",
      "Actual labels   :  [19.368 18.974 16.906 23.135 23.36  16.251 15.372 14.505 16.431 19.946]\n"
     ]
    }
   ],
   "source": [
    "predictions = model.predict(X_test)\n",
    "np.set_printoptions(suppress=True)\n",
    "print('Predicted labels: ', np.round(predictions)[:10])\n",
    "print('Actual labels   : ' ,y_test[:10])"
   ]
  },
  {
   "cell_type": "code",
   "execution_count": 17,
   "metadata": {
    "colab": {
     "base_uri": "https://localhost:8080/"
    },
    "executionInfo": {
     "elapsed": 11,
     "status": "ok",
     "timestamp": 1743049978638,
     "user": {
      "displayName": "Harshit Chatterjee",
      "userId": "07472237498188752971"
     },
     "user_tz": -330
    },
    "id": "N932dwlX3wUL",
    "outputId": "04aac0b1-43f2-4302-fbb7-59205019b6f2"
   },
   "outputs": [
    {
     "name": "stdout",
     "output_type": "stream",
     "text": [
      "Coefficients: \n",
      " [-0.44471751  0.7489668   0.69593602 -0.00000008]\n",
      "Mean squared error: 0.02\n",
      "Variance score: 1.00\n"
     ]
    }
   ],
   "source": [
    "y_pred = model.predict(X_test)\n",
    "print('Coefficients: \\n', model.coef_)\n",
    "# The mean squared error\n",
    "print(\"Mean squared error: %.2f\" % np.mean((model.predict(X_test) - y_test) ** 2))\n",
    "# Explained variance score: 1 is perfect prediction\n",
    "print('Variance score: %.2f' % model.score(X_test, y_test))"
   ]
  },
  {
   "cell_type": "code",
   "execution_count": 18,
   "metadata": {
    "colab": {
     "base_uri": "https://localhost:8080/",
     "height": 472
    },
    "executionInfo": {
     "elapsed": 356,
     "status": "ok",
     "timestamp": 1743049999451,
     "user": {
      "displayName": "Harshit Chatterjee",
      "userId": "07472237498188752971"
     },
     "user_tz": -330
    },
    "id": "fGNcBp8x3_E8",
    "outputId": "26332220-ecb1-4ccb-ccb9-e781f53f2b3a"
   },
   "outputs": [
    {
     "data": {
      "image/png": "[encoded data removed]",
      "text/plain": [
       "<Figure size 432x288 with 1 Axes>"
      ]
     },
     "metadata": {
      "needs_background": "light"
     },
     "output_type": "display_data"
    }
   ],
   "source": [
    "%matplotlib inline\n",
    "\n",
    "plt.scatter(y_test, predictions)\n",
    "plt.xlabel('Actual Labels')\n",
    "plt.ylabel('Predicted Labels')\n",
    "plt.title('Silver Prices Predictions')\n",
    "# overlay the regression line\n",
    "z = np.polyfit(y_test, predictions, 1)\n",
    "p = np.poly1d(z)\n",
    "plt.plot(y_test,p(y_test), color='magenta')\n",
    "plt.show()"
   ]
  },
  {
   "cell_type": "code",
   "execution_count": 19,
   "metadata": {
    "colab": {
     "base_uri": "https://localhost:8080/"
    },
    "executionInfo": {
     "elapsed": 8,
     "status": "ok",
     "timestamp": 1743050195396,
     "user": {
      "displayName": "Harshit Chatterjee",
      "userId": "07472237498188752971"
     },
     "user_tz": -330
    },
    "id": "W3TSvC2F4EF2",
    "outputId": "e0a27ca7-985e-4f30-d418-02b8e7e38bcd"
   },
   "outputs": [
    {
     "name": "stdout",
     "output_type": "stream",
     "text": [
      "0.25960000000000016\n",
      "0.09378480000000011\n",
      "0.020567665507357655\n"
     ]
    }
   ],
   "source": [
    "Predicted_values = [19, 19, 17, 23, 23, 16, 15, 14, 16, 20]\n",
    "Actual_values = [19.368, 18.974, 16.906, 23.135, 23.36,  16.251, 15.372, 14.505, 16.431, 19.946]\n",
    "\n",
    "from sklearn.metrics import mean_squared_error, mean_absolute_error\n",
    "\n",
    "# printing the mean absolute error\n",
    "print(mean_absolute_error(Actual_values, Predicted_values))\n",
    "# printing the mean squared error\n",
    "print(mean_squared_error(Actual_values, Predicted_values))\n",
    "# printing the mean squared error\n",
    "print(mean_squared_error(y_test, y_pred))"
   ]
  },
  {
   "cell_type": "code",
   "execution_count": 20,
   "metadata": {
    "colab": {
     "base_uri": "https://localhost:8080/"
    },
    "executionInfo": {
     "elapsed": 6,
     "status": "ok",
     "timestamp": 1743050236022,
     "user": {
      "displayName": "Harshit Chatterjee",
      "userId": "07472237498188752971"
     },
     "user_tz": -330
    },
    "id": "t7sDHjBE40Ay",
    "outputId": "a687b8f9-32c8-4ba9-b876-cb37f38a8ab2"
   },
   "outputs": [
    {
     "name": "stdout",
     "output_type": "stream",
     "text": [
      "MSE: 0.020567665507357655\n",
      "RMSE: 0.14341431416479197\n",
      "R2: 0.9984743931242002\n"
     ]
    }
   ],
   "source": [
    "from sklearn.metrics import mean_squared_error, r2_score\n",
    "\n",
    "mse = mean_squared_error(y_test, predictions)\n",
    "print(\"MSE:\", mse)\n",
    "\n",
    "rmse = np.sqrt(mse)\n",
    "print(\"RMSE:\", rmse)\n",
    "\n",
    "r2 = r2_score(y_test, predictions)\n",
    "print(\"R2:\", r2)"
   ]
  },
  {
   "cell_type": "code",
   "execution_count": 21,
   "metadata": {
    "colab": {
     "base_uri": "https://localhost:8080/"
    },
    "executionInfo": {
     "elapsed": 52,
     "status": "ok",
     "timestamp": 1743050685110,
     "user": {
      "displayName": "Harshit Chatterjee",
      "userId": "07472237498188752971"
     },
     "user_tz": -330
    },
    "id": "l6IWoznD496_",
    "outputId": "58ad2782-da77-4382-cbc5-1d61e4e4caf0"
   },
   "outputs": [
    {
     "data": {
      "text/plain": [
       "['./silver_prices_model.pkl']"
      ]
     },
     "execution_count": 21,
     "metadata": {},
     "output_type": "execute_result"
    }
   ],
   "source": [
    "import joblib\n",
    "\n",
    "# Save the model as a pickle file\n",
    "filename = './silver_prices_model.pkl'\n",
    "joblib.dump(model, filename)"
   ]
  },
  {
   "cell_type": "code",
   "execution_count": 22,
   "metadata": {
    "colab": {
     "base_uri": "https://localhost:8080/"
    },
    "executionInfo": {
     "elapsed": 7,
     "status": "ok",
     "timestamp": 1743050737292,
     "user": {
      "displayName": "Harshit Chatterjee",
      "userId": "07472237498188752971"
     },
     "user_tz": -330
    },
    "id": "Ln7jNVBt6rkA",
    "outputId": "67cce8fd-e7f3-45b9-b585-252a8cbdb72c"
   },
   "outputs": [
    {
     "name": "stdout",
     "output_type": "stream",
     "text": [
      "Predictions:\n",
      "25.35\n",
      "25.43\n"
     ]
    }
   ],
   "source": [
    "# Load the model from the file\n",
    "loaded_model = joblib.load(filename)\n",
    "\n",
    "# An array of features for each transaction (don't include the transaction date)\n",
    "X_new = np.array([[16.2,28.38,16.25,24.93],\n",
    "                  [13.6,24.15,19.25,23.64]])\n",
    "\n",
    "# Use the model to predict unit price\n",
    "results = loaded_model.predict(X_new)\n",
    "print('Predictions:')\n",
    "for prediction in results:\n",
    "    print(round(prediction,2))"
   ]
  },
  {
   "cell_type": "code",
   "execution_count": 23,
   "metadata": {
    "colab": {
     "base_uri": "https://localhost:8080/",
     "height": 599
    },
    "executionInfo": {
     "elapsed": 336,
     "status": "ok",
     "timestamp": 1743051393873,
     "user": {
      "displayName": "Harshit Chatterjee",
      "userId": "07472237498188752971"
     },
     "user_tz": -330
    },
    "id": "bkP3Ds-864Tv",
    "outputId": "a572563b-877c-425b-be39-691823e5f8a5"
   },
   "outputs": [
    {
     "ename": "FileNotFoundError",
     "evalue": "[Errno 2] No such file or directory: '/content/SET - 1 -Silver prices.csv'",
     "output_type": "error",
     "traceback": [
      "\u001b[1;31m---------------------------------------------------------------------------\u001b[0m",
      "\u001b[1;31mFileNotFoundError\u001b[0m                         Traceback (most recent call last)",
      "Input \u001b[1;32mIn [23]\u001b[0m, in \u001b[0;36m<cell line: 10>\u001b[1;34m()\u001b[0m\n\u001b[0;32m      8\u001b[0m \u001b[38;5;66;03m# Load the dataset\u001b[39;00m\n\u001b[0;32m      9\u001b[0m file_path \u001b[38;5;241m=\u001b[39m \u001b[38;5;124m\"\u001b[39m\u001b[38;5;124m/content/SET - 1 -Silver prices.csv\u001b[39m\u001b[38;5;124m\"\u001b[39m\n\u001b[1;32m---> 10\u001b[0m df \u001b[38;5;241m=\u001b[39m \u001b[43mpd\u001b[49m\u001b[38;5;241;43m.\u001b[39;49m\u001b[43mread_csv\u001b[49m\u001b[43m(\u001b[49m\u001b[43mfile_path\u001b[49m\u001b[43m)\u001b[49m\n\u001b[0;32m     12\u001b[0m \u001b[38;5;66;03m# Drop missing values\u001b[39;00m\n\u001b[0;32m     13\u001b[0m df\u001b[38;5;241m.\u001b[39mdropna(inplace\u001b[38;5;241m=\u001b[39m\u001b[38;5;28;01mTrue\u001b[39;00m)\n",
      "File \u001b[1;32mc:\\Users\\Dell\\anaconda3\\lib\\site-packages\\pandas\\util\\_decorators.py:311\u001b[0m, in \u001b[0;36mdeprecate_nonkeyword_arguments.<locals>.decorate.<locals>.wrapper\u001b[1;34m(*args, **kwargs)\u001b[0m\n\u001b[0;32m    305\u001b[0m \u001b[38;5;28;01mif\u001b[39;00m \u001b[38;5;28mlen\u001b[39m(args) \u001b[38;5;241m>\u001b[39m num_allow_args:\n\u001b[0;32m    306\u001b[0m     warnings\u001b[38;5;241m.\u001b[39mwarn(\n\u001b[0;32m    307\u001b[0m         msg\u001b[38;5;241m.\u001b[39mformat(arguments\u001b[38;5;241m=\u001b[39marguments),\n\u001b[0;32m    308\u001b[0m         \u001b[38;5;167;01mFutureWarning\u001b[39;00m,\n\u001b[0;32m    309\u001b[0m         stacklevel\u001b[38;5;241m=\u001b[39mstacklevel,\n\u001b[0;32m    310\u001b[0m     )\n\u001b[1;32m--> 311\u001b[0m \u001b[38;5;28;01mreturn\u001b[39;00m func(\u001b[38;5;241m*\u001b[39margs, \u001b[38;5;241m*\u001b[39m\u001b[38;5;241m*\u001b[39mkwargs)\n",
      "File \u001b[1;32mc:\\Users\\Dell\\anaconda3\\lib\\site-packages\\pandas\\io\\parsers\\readers.py:680\u001b[0m, in \u001b[0;36mread_csv\u001b[1;34m(filepath_or_buffer, sep, delimiter, header, names, index_col, usecols, squeeze, prefix, mangle_dupe_cols, dtype, engine, converters, true_values, false_values, skipinitialspace, skiprows, skipfooter, nrows, na_values, keep_default_na, na_filter, verbose, skip_blank_lines, parse_dates, infer_datetime_format, keep_date_col, date_parser, dayfirst, cache_dates, iterator, chunksize, compression, thousands, decimal, lineterminator, quotechar, quoting, doublequote, escapechar, comment, encoding, encoding_errors, dialect, error_bad_lines, warn_bad_lines, on_bad_lines, delim_whitespace, low_memory, memory_map, float_precision, storage_options)\u001b[0m\n\u001b[0;32m    665\u001b[0m kwds_defaults \u001b[38;5;241m=\u001b[39m _refine_defaults_read(\n\u001b[0;32m    666\u001b[0m     dialect,\n\u001b[0;32m    667\u001b[0m     delimiter,\n\u001b[1;32m   (...)\u001b[0m\n\u001b[0;32m    676\u001b[0m     defaults\u001b[38;5;241m=\u001b[39m{\u001b[38;5;124m\"\u001b[39m\u001b[38;5;124mdelimiter\u001b[39m\u001b[38;5;124m\"\u001b[39m: \u001b[38;5;124m\"\u001b[39m\u001b[38;5;124m,\u001b[39m\u001b[38;5;124m\"\u001b[39m},\n\u001b[0;32m    677\u001b[0m )\n\u001b[0;32m    678\u001b[0m kwds\u001b[38;5;241m.\u001b[39mupdate(kwds_defaults)\n\u001b[1;32m--> 680\u001b[0m \u001b[38;5;28;01mreturn\u001b[39;00m \u001b[43m_read\u001b[49m\u001b[43m(\u001b[49m\u001b[43mfilepath_or_buffer\u001b[49m\u001b[43m,\u001b[49m\u001b[43m \u001b[49m\u001b[43mkwds\u001b[49m\u001b[43m)\u001b[49m\n",
      "File \u001b[1;32mc:\\Users\\Dell\\anaconda3\\lib\\site-packages\\pandas\\io\\parsers\\readers.py:575\u001b[0m, in \u001b[0;36m_read\u001b[1;34m(filepath_or_buffer, kwds)\u001b[0m\n\u001b[0;32m    572\u001b[0m _validate_names(kwds\u001b[38;5;241m.\u001b[39mget(\u001b[38;5;124m\"\u001b[39m\u001b[38;5;124mnames\u001b[39m\u001b[38;5;124m\"\u001b[39m, \u001b[38;5;28;01mNone\u001b[39;00m))\n\u001b[0;32m    574\u001b[0m \u001b[38;5;66;03m# Create the parser.\u001b[39;00m\n\u001b[1;32m--> 575\u001b[0m parser \u001b[38;5;241m=\u001b[39m TextFileReader(filepath_or_buffer, \u001b[38;5;241m*\u001b[39m\u001b[38;5;241m*\u001b[39mkwds)\n\u001b[0;32m    577\u001b[0m \u001b[38;5;28;01mif\u001b[39;00m chunksize \u001b[38;5;129;01mor\u001b[39;00m iterator:\n\u001b[0;32m    578\u001b[0m     \u001b[38;5;28;01mreturn\u001b[39;00m parser\n",
      "File \u001b[1;32mc:\\Users\\Dell\\anaconda3\\lib\\site-packages\\pandas\\io\\parsers\\readers.py:933\u001b[0m, in \u001b[0;36mTextFileReader.__init__\u001b[1;34m(self, f, engine, **kwds)\u001b[0m\n\u001b[0;32m    930\u001b[0m     \u001b[38;5;28mself\u001b[39m\u001b[38;5;241m.\u001b[39moptions[\u001b[38;5;124m\"\u001b[39m\u001b[38;5;124mhas_index_names\u001b[39m\u001b[38;5;124m\"\u001b[39m] \u001b[38;5;241m=\u001b[39m kwds[\u001b[38;5;124m\"\u001b[39m\u001b[38;5;124mhas_index_names\u001b[39m\u001b[38;5;124m\"\u001b[39m]\n\u001b[0;32m    932\u001b[0m \u001b[38;5;28mself\u001b[39m\u001b[38;5;241m.\u001b[39mhandles: IOHandles \u001b[38;5;241m|\u001b[39m \u001b[38;5;28;01mNone\u001b[39;00m \u001b[38;5;241m=\u001b[39m \u001b[38;5;28;01mNone\u001b[39;00m\n\u001b[1;32m--> 933\u001b[0m \u001b[38;5;28mself\u001b[39m\u001b[38;5;241m.\u001b[39m_engine \u001b[38;5;241m=\u001b[39m \u001b[38;5;28;43mself\u001b[39;49m\u001b[38;5;241;43m.\u001b[39;49m\u001b[43m_make_engine\u001b[49m\u001b[43m(\u001b[49m\u001b[43mf\u001b[49m\u001b[43m,\u001b[49m\u001b[43m \u001b[49m\u001b[38;5;28;43mself\u001b[39;49m\u001b[38;5;241;43m.\u001b[39;49m\u001b[43mengine\u001b[49m\u001b[43m)\u001b[49m\n",
      "File \u001b[1;32mc:\\Users\\Dell\\anaconda3\\lib\\site-packages\\pandas\\io\\parsers\\readers.py:1217\u001b[0m, in \u001b[0;36mTextFileReader._make_engine\u001b[1;34m(self, f, engine)\u001b[0m\n\u001b[0;32m   1213\u001b[0m     mode \u001b[38;5;241m=\u001b[39m \u001b[38;5;124m\"\u001b[39m\u001b[38;5;124mrb\u001b[39m\u001b[38;5;124m\"\u001b[39m\n\u001b[0;32m   1214\u001b[0m \u001b[38;5;66;03m# error: No overload variant of \"get_handle\" matches argument types\u001b[39;00m\n\u001b[0;32m   1215\u001b[0m \u001b[38;5;66;03m# \"Union[str, PathLike[str], ReadCsvBuffer[bytes], ReadCsvBuffer[str]]\"\u001b[39;00m\n\u001b[0;32m   1216\u001b[0m \u001b[38;5;66;03m# , \"str\", \"bool\", \"Any\", \"Any\", \"Any\", \"Any\", \"Any\"\u001b[39;00m\n\u001b[1;32m-> 1217\u001b[0m \u001b[38;5;28mself\u001b[39m\u001b[38;5;241m.\u001b[39mhandles \u001b[38;5;241m=\u001b[39m \u001b[43mget_handle\u001b[49m\u001b[43m(\u001b[49m\u001b[43m  \u001b[49m\u001b[38;5;66;43;03m# type: ignore[call-overload]\u001b[39;49;00m\n\u001b[0;32m   1218\u001b[0m \u001b[43m    \u001b[49m\u001b[43mf\u001b[49m\u001b[43m,\u001b[49m\n\u001b[0;32m   1219\u001b[0m \u001b[43m    \u001b[49m\u001b[43mmode\u001b[49m\u001b[43m,\u001b[49m\n\u001b[0;32m   1220\u001b[0m \u001b[43m    \u001b[49m\u001b[43mencoding\u001b[49m\u001b[38;5;241;43m=\u001b[39;49m\u001b[38;5;28;43mself\u001b[39;49m\u001b[38;5;241;43m.\u001b[39;49m\u001b[43moptions\u001b[49m\u001b[38;5;241;43m.\u001b[39;49m\u001b[43mget\u001b[49m\u001b[43m(\u001b[49m\u001b[38;5;124;43m\"\u001b[39;49m\u001b[38;5;124;43mencoding\u001b[39;49m\u001b[38;5;124;43m\"\u001b[39;49m\u001b[43m,\u001b[49m\u001b[43m \u001b[49m\u001b[38;5;28;43;01mNone\u001b[39;49;00m\u001b[43m)\u001b[49m\u001b[43m,\u001b[49m\n\u001b[0;32m   1221\u001b[0m \u001b[43m    \u001b[49m\u001b[43mcompression\u001b[49m\u001b[38;5;241;43m=\u001b[39;49m\u001b[38;5;28;43mself\u001b[39;49m\u001b[38;5;241;43m.\u001b[39;49m\u001b[43moptions\u001b[49m\u001b[38;5;241;43m.\u001b[39;49m\u001b[43mget\u001b[49m\u001b[43m(\u001b[49m\u001b[38;5;124;43m\"\u001b[39;49m\u001b[38;5;124;43mcompression\u001b[39;49m\u001b[38;5;124;43m\"\u001b[39;49m\u001b[43m,\u001b[49m\u001b[43m \u001b[49m\u001b[38;5;28;43;01mNone\u001b[39;49;00m\u001b[43m)\u001b[49m\u001b[43m,\u001b[49m\n\u001b[0;32m   1222\u001b[0m \u001b[43m    \u001b[49m\u001b[43mmemory_map\u001b[49m\u001b[38;5;241;43m=\u001b[39;49m\u001b[38;5;28;43mself\u001b[39;49m\u001b[38;5;241;43m.\u001b[39;49m\u001b[43moptions\u001b[49m\u001b[38;5;241;43m.\u001b[39;49m\u001b[43mget\u001b[49m\u001b[43m(\u001b[49m\u001b[38;5;124;43m\"\u001b[39;49m\u001b[38;5;124;43mmemory_map\u001b[39;49m\u001b[38;5;124;43m\"\u001b[39;49m\u001b[43m,\u001b[49m\u001b[43m \u001b[49m\u001b[38;5;28;43;01mFalse\u001b[39;49;00m\u001b[43m)\u001b[49m\u001b[43m,\u001b[49m\n\u001b[0;32m   1223\u001b[0m \u001b[43m    \u001b[49m\u001b[43mis_text\u001b[49m\u001b[38;5;241;43m=\u001b[39;49m\u001b[43mis_text\u001b[49m\u001b[43m,\u001b[49m\n\u001b[0;32m   1224\u001b[0m \u001b[43m    \u001b[49m\u001b[43merrors\u001b[49m\u001b[38;5;241;43m=\u001b[39;49m\u001b[38;5;28;43mself\u001b[39;49m\u001b[38;5;241;43m.\u001b[39;49m\u001b[43moptions\u001b[49m\u001b[38;5;241;43m.\u001b[39;49m\u001b[43mget\u001b[49m\u001b[43m(\u001b[49m\u001b[38;5;124;43m\"\u001b[39;49m\u001b[38;5;124;43mencoding_errors\u001b[39;49m\u001b[38;5;124;43m\"\u001b[39;49m\u001b[43m,\u001b[49m\u001b[43m \u001b[49m\u001b[38;5;124;43m\"\u001b[39;49m\u001b[38;5;124;43mstrict\u001b[39;49m\u001b[38;5;124;43m\"\u001b[39;49m\u001b[43m)\u001b[49m\u001b[43m,\u001b[49m\n\u001b[0;32m   1225\u001b[0m \u001b[43m    \u001b[49m\u001b[43mstorage_options\u001b[49m\u001b[38;5;241;43m=\u001b[39;49m\u001b[38;5;28;43mself\u001b[39;49m\u001b[38;5;241;43m.\u001b[39;49m\u001b[43moptions\u001b[49m\u001b[38;5;241;43m.\u001b[39;49m\u001b[43mget\u001b[49m\u001b[43m(\u001b[49m\u001b[38;5;124;43m\"\u001b[39;49m\u001b[38;5;124;43mstorage_options\u001b[39;49m\u001b[38;5;124;43m\"\u001b[39;49m\u001b[43m,\u001b[49m\u001b[43m \u001b[49m\u001b[38;5;28;43;01mNone\u001b[39;49;00m\u001b[43m)\u001b[49m\u001b[43m,\u001b[49m\n\u001b[0;32m   1226\u001b[0m \u001b[43m\u001b[49m\u001b[43m)\u001b[49m\n\u001b[0;32m   1227\u001b[0m \u001b[38;5;28;01massert\u001b[39;00m \u001b[38;5;28mself\u001b[39m\u001b[38;5;241m.\u001b[39mhandles \u001b[38;5;129;01mis\u001b[39;00m \u001b[38;5;129;01mnot\u001b[39;00m \u001b[38;5;28;01mNone\u001b[39;00m\n\u001b[0;32m   1228\u001b[0m f \u001b[38;5;241m=\u001b[39m \u001b[38;5;28mself\u001b[39m\u001b[38;5;241m.\u001b[39mhandles\u001b[38;5;241m.\u001b[39mhandle\n",
      "File \u001b[1;32mc:\\Users\\Dell\\anaconda3\\lib\\site-packages\\pandas\\io\\common.py:789\u001b[0m, in \u001b[0;36mget_handle\u001b[1;34m(path_or_buf, mode, encoding, compression, memory_map, is_text, errors, storage_options)\u001b[0m\n\u001b[0;32m    784\u001b[0m \u001b[38;5;28;01melif\u001b[39;00m \u001b[38;5;28misinstance\u001b[39m(handle, \u001b[38;5;28mstr\u001b[39m):\n\u001b[0;32m    785\u001b[0m     \u001b[38;5;66;03m# Check whether the filename is to be opened in binary mode.\u001b[39;00m\n\u001b[0;32m    786\u001b[0m     \u001b[38;5;66;03m# Binary mode does not support 'encoding' and 'newline'.\u001b[39;00m\n\u001b[0;32m    787\u001b[0m     \u001b[38;5;28;01mif\u001b[39;00m ioargs\u001b[38;5;241m.\u001b[39mencoding \u001b[38;5;129;01mand\u001b[39;00m \u001b[38;5;124m\"\u001b[39m\u001b[38;5;124mb\u001b[39m\u001b[38;5;124m\"\u001b[39m \u001b[38;5;129;01mnot\u001b[39;00m \u001b[38;5;129;01min\u001b[39;00m ioargs\u001b[38;5;241m.\u001b[39mmode:\n\u001b[0;32m    788\u001b[0m         \u001b[38;5;66;03m# Encoding\u001b[39;00m\n\u001b[1;32m--> 789\u001b[0m         handle \u001b[38;5;241m=\u001b[39m \u001b[38;5;28;43mopen\u001b[39;49m\u001b[43m(\u001b[49m\n\u001b[0;32m    790\u001b[0m \u001b[43m            \u001b[49m\u001b[43mhandle\u001b[49m\u001b[43m,\u001b[49m\n\u001b[0;32m    791\u001b[0m \u001b[43m            \u001b[49m\u001b[43mioargs\u001b[49m\u001b[38;5;241;43m.\u001b[39;49m\u001b[43mmode\u001b[49m\u001b[43m,\u001b[49m\n\u001b[0;32m    792\u001b[0m \u001b[43m            \u001b[49m\u001b[43mencoding\u001b[49m\u001b[38;5;241;43m=\u001b[39;49m\u001b[43mioargs\u001b[49m\u001b[38;5;241;43m.\u001b[39;49m\u001b[43mencoding\u001b[49m\u001b[43m,\u001b[49m\n\u001b[0;32m    793\u001b[0m \u001b[43m            \u001b[49m\u001b[43merrors\u001b[49m\u001b[38;5;241;43m=\u001b[39;49m\u001b[43merrors\u001b[49m\u001b[43m,\u001b[49m\n\u001b[0;32m    794\u001b[0m \u001b[43m            \u001b[49m\u001b[43mnewline\u001b[49m\u001b[38;5;241;43m=\u001b[39;49m\u001b[38;5;124;43m\"\u001b[39;49m\u001b[38;5;124;43m\"\u001b[39;49m\u001b[43m,\u001b[49m\n\u001b[0;32m    795\u001b[0m \u001b[43m        \u001b[49m\u001b[43m)\u001b[49m\n\u001b[0;32m    796\u001b[0m     \u001b[38;5;28;01melse\u001b[39;00m:\n\u001b[0;32m    797\u001b[0m         \u001b[38;5;66;03m# Binary mode\u001b[39;00m\n\u001b[0;32m    798\u001b[0m         handle \u001b[38;5;241m=\u001b[39m \u001b[38;5;28mopen\u001b[39m(handle, ioargs\u001b[38;5;241m.\u001b[39mmode)\n",
      "\u001b[1;31mFileNotFoundError\u001b[0m: [Errno 2] No such file or directory: '/content/SET - 1 -Silver prices.csv'"
     ]
    }
   ],
   "source": [
    "import pandas as pd\n",
    "import seaborn as sns\n",
    "import matplotlib.pyplot as plt\n",
    "from sklearn.model_selection import train_test_split\n",
    "from sklearn.linear_model import LinearRegression\n",
    "from sklearn.metrics import mean_squared_error, r2_score\n",
    "\n",
    "# Load the dataset\n",
    "file_path = \"/content/SET - 1 -Silver prices.csv\"\n",
    "df = pd.read_csv(file_path)\n",
    "\n",
    "# Drop missing values\n",
    "df.dropna(inplace=True)\n",
    "\n",
    "# Remove outliers in 'Volume' using IQR method\n",
    "Q1 = df[\"Volume\"].quantile(0.25)\n",
    "Q3 = df[\"Volume\"].quantile(0.75)\n",
    "IQR = Q3 - Q1\n",
    "lower_bound = Q1 - 1.5 * IQR\n",
    "upper_bound = Q3 + 1.5 * IQR\n",
    "df = df[(df[\"Volume\"] >= lower_bound) & (df[\"Volume\"] <= upper_bound)]\n",
    "\n",
    "# Define features (X) and target (y)\n",
    "X = df[['Open', 'Volume']]\n",
    "y = df['Close/Last']\n",
    "\n",
    "# Split into training (80%) and testing (20%) sets\n",
    "X_train, X_test, y_train, y_test = train_test_split(X, y, test_size=0.2, random_state=42)\n",
    "\n",
    "# Train Linear Regression model\n",
    "model = LinearRegression()\n",
    "model.fit(X_train, y_train)\n",
    "\n",
    "# Predict on test set\n",
    "y_pred = model.predict(X_test)\n",
    "\n",
    "# Evaluate performance\n",
    "mse = mean_squared_error(y_test, y_pred)\n",
    "r2 = r2_score(y_test, y_pred)\n",
    "\n",
    "# Print results\n",
    "print(f\"Mean Squared Error (MSE): {mse}\")\n",
    "print(f\"R² Score: {r2}\")\n",
    "\n",
    "# Plot actual vs. predicted values\n",
    "plt.figure(figsize=(8,6))\n",
    "sns.scatterplot(x=y_test, y=y_pred)\n",
    "plt.xlabel(\"Actual Prices\")\n",
    "plt.ylabel(\"Predicted Prices\")\n",
    "plt.title(\"Actual vs. Predicted Silver Prices\")\n",
    "plt.show()\n"
   ]
  },
  {
   "cell_type": "code",
   "execution_count": 28,
   "metadata": {
    "colab": {
     "base_uri": "https://localhost:8080/"
    },
    "executionInfo": {
     "elapsed": 69,
     "status": "ok",
     "timestamp": 1743053181145,
     "user": {
      "displayName": "Harshit Chatterjee",
      "userId": "07472237498188752971"
     },
     "user_tz": -330
    },
    "id": "rrOexbtM9Yh1",
    "outputId": "caad03b0-3dbf-485b-cc3a-5daf8e2194a4"
   },
   "outputs": [
    {
     "name": "stdout",
     "output_type": "stream",
     "text": [
      "✅ Combined dataset (Historical + Predicted) saved as silver_prices_combined.csv\n"
     ]
    }
   ],
   "source": [
    "import pandas as pd\n",
    "import numpy as np\n",
    "from datetime import datetime, timedelta\n",
    "import joblib\n",
    "\n",
    "# Load the trained model\n",
    "model = joblib.load('./silver_prices_model.pkl')\n",
    "\n",
    "# Load historical data\n",
    "df = pd.read_csv(\"SET - 1 -Silver prices.csv\")\n",
    "\n",
    "# Generate future dates from 2025 to 2030\n",
    "future_dates = pd.date_range(start=\"2025-01-01\", end=\"2030-12-31\", freq='D')\n",
    "\n",
    "# Generate realistic Open, High, Low, and Volume for future dates\n",
    "open_price = df['Open'].mean() * (1 + np.random.uniform(-0.02, 0.02, len(future_dates)))  # Small variations\n",
    "high_price = open_price * 1.02  # Assume high is 2% above open\n",
    "low_price = open_price * 0.98  # Assume low is 2% below open\n",
    "volume = df['Volume'].mean() * (1 + np.random.uniform(-0.05, 0.05, len(future_dates)))  # Slight volume changes\n",
    "\n",
    "# Create a DataFrame for future data\n",
    "future_data = pd.DataFrame({\n",
    "    'Date': future_dates,\n",
    "    'Open': open_price,\n",
    "    'High': high_price,\n",
    "    'Low': low_price,\n",
    "    'Volume': volume\n",
    "})\n",
    "\n",
    "# Predict closing prices for future data\n",
    "future_data['Predicted_Close'] = model.predict(future_data[['Open', 'High', 'Low', 'Volume']])\n",
    "\n",
    "# Mark data type (Actual vs. Predicted)\n",
    "df['Type'] = 'Actual'  # Historical data\n",
    "future_data['Type'] = 'Predicted'  # Future data\n",
    "\n",
    "# Combine both datasets\n",
    "combined_data = pd.concat([df, future_data], ignore_index=True)\n",
    "\n",
    "# Save combined dataset for Power BI\n",
    "combined_data.to_csv(\"silver_prices_combined.csv\", index=False)\n",
    "\n",
    "print(\"✅ Combined dataset (Historical + Predicted) saved as silver_prices_combined.csv\")\n"
   ]
  },
  {
   "cell_type": "code",
   "execution_count": null,
   "metadata": {
    "id": "X2SgbbaAEM8K"
   },
   "outputs": [],
   "source": []
  }
 ],
 "metadata": {
  "colab": {
   "authorship_tag": "ABX9TyMJPDYbI6PeQQprnX3X+nk8",
   "provenance": []
  },
  "kernelspec": {
   "display_name": "base",
   "language": "python",
   "name": "python3"
  },
  "language_info": {
   "codemirror_mode": {
    "name": "ipython",
    "version": 3
   },
   "file_extension": ".py",
   "mimetype": "text/x-python",
   "name": "python",
   "nbconvert_exporter": "python",
   "pygments_lexer": "ipython3",
   "version": "3.9.12"
  }
 },
 "nbformat": 4,
 "nbformat_minor": 0
}
